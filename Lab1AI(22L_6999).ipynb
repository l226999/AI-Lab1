{
  "nbformat": 4,
  "nbformat_minor": 0,
  "metadata": {
    "colab": {
      "provenance": [],
      "authorship_tag": "ABX9TyNdRI8iDZEf5H2TI+17qrvC",
      "include_colab_link": true
    },
    "kernelspec": {
      "name": "python3",
      "display_name": "Python 3"
    },
    "language_info": {
      "name": "python"
    }
  },
  "cells": [
    {
      "cell_type": "markdown",
      "metadata": {
        "id": "view-in-github",
        "colab_type": "text"
      },
      "source": [
        "<a href=\"https://colab.research.google.com/github/l226999/AI-Lab1/blob/main/Lab1AI(22L_6999).ipynb\" target=\"_parent\"><img src=\"https://colab.research.google.com/assets/colab-badge.svg\" alt=\"Open In Colab\"/></a>"
      ]
    },
    {
      "cell_type": "markdown",
      "source": [
        "# **Lab1**"
      ],
      "metadata": {
        "id": "oxTawcSMu2i0"
      }
    },
    {
      "cell_type": "markdown",
      "source": [
        "\n",
        "\n",
        "---\n",
        "\n"
      ],
      "metadata": {
        "id": "UfBfsMp9vL-e"
      }
    },
    {
      "cell_type": "markdown",
      "source": [
        "## **Question#1**"
      ],
      "metadata": {
        "id": "8EjSslTSvBgw"
      }
    },
    {
      "cell_type": "code",
      "execution_count": 1,
      "metadata": {
        "colab": {
          "base_uri": "https://localhost:8080/"
        },
        "id": "51qxvMRXuphS",
        "outputId": "242a6296-e34a-49ec-df51-60845cc29497"
      },
      "outputs": [
        {
          "output_type": "stream",
          "name": "stdout",
          "text": [
            "Enter your name:ibrahim\n",
            "Enter your age:20\n",
            "Welcome  ibrahim  to Lab1\n"
          ]
        }
      ],
      "source": [
        "name=input(\"Enter your name:\")\n",
        "age=input(\"Enter your age:\")\n",
        "print(\"Welcome \",name,\" to Lab1\")\n"
      ]
    },
    {
      "cell_type": "markdown",
      "source": [
        "# **Question#2**"
      ],
      "metadata": {
        "id": "n6-WsfPJyVLO"
      }
    },
    {
      "cell_type": "code",
      "source": [
        "\n",
        "def determine_type(user_input):\n",
        "  try:\n",
        "    user_input=int(user_input)\n",
        "    return user_input,\"int\"\n",
        "  except ValueError:\n",
        "    try:\n",
        "      user_input=float(user_input)\n",
        "      return user_input,\"float\"\n",
        "    except ValueError:\n",
        "\n",
        "      return user_input,\"string\"\n",
        "\n",
        "\n",
        "\n",
        "\n",
        "\n",
        "user_input=input(\"Enter anything:\")\n",
        "\n",
        "value,data_type=determine_type(user_input)\n",
        "\n",
        "print(f\"You entered:{user_input}\")\n",
        "print(f\"Data type:{data_type}\")\n",
        "\n"
      ],
      "metadata": {
        "id": "AFX_LNtjyYf-"
      },
      "execution_count": null,
      "outputs": []
    },
    {
      "cell_type": "markdown",
      "source": [
        "# **Question#3**"
      ],
      "metadata": {
        "id": "MG73mXB8yhak"
      }
    },
    {
      "cell_type": "code",
      "source": [
        "this_list=[\"Apple\",\"banana\",\"orange\"]\n",
        "print(\"Printing the elements of list\\n\")\n",
        "print(this_list)\n",
        "print(\"Adding elements in list\")\n",
        "this_list.append(\"pear\")\n",
        "print(this_list)\n",
        "print(\"Removing elements in list\")\n",
        "try:\n",
        "  this_list.remove(\"Apple\")\n",
        "  print(f\"Removed successfully\")\n",
        "except ValueError:\n",
        "  print(\"Element not found\")\n",
        "print(this_list)\n",
        "print(f\"Printing each element capital\")\n",
        "for x in this_list:\n",
        "  print(x.upper())"
      ],
      "metadata": {
        "colab": {
          "base_uri": "https://localhost:8080/"
        },
        "id": "v23bxJf3ykFN",
        "outputId": "21780977-848e-48a4-9c41-798ec82853a2"
      },
      "execution_count": 20,
      "outputs": [
        {
          "output_type": "stream",
          "name": "stdout",
          "text": [
            "Printing the elements of list\n",
            "\n",
            "['Apple', 'banana', 'orange']\n",
            "Adding elements in list\n",
            "['Apple', 'banana', 'orange', 'pear']\n",
            "Removing elements in list\n",
            "Removed successfully\n",
            "['banana', 'orange', 'pear']\n",
            "Printing each element capital\n",
            "BANANA\n",
            "ORANGE\n",
            "PEAR\n"
          ]
        }
      ]
    },
    {
      "cell_type": "markdown",
      "source": [
        "# **Question#4**"
      ],
      "metadata": {
        "id": "jh2zJih61LsZ"
      }
    },
    {
      "cell_type": "code",
      "source": [
        "this_tuple=(\"iphone\",\"nothing\",\"xiaomi\")\n",
        "print(f\"This is the tuple\",{this_tuple})\n",
        "element1=this_tuple[0]\n",
        "element2=this_tuple[1]\n",
        "\n",
        "print(f\"Element1:{element1}\")\n",
        "print(f\"Element2:{element2}\")\n"
      ],
      "metadata": {
        "colab": {
          "base_uri": "https://localhost:8080/"
        },
        "id": "8kHKYlt51PpY",
        "outputId": "6dc084b3-3c4e-4e45-fb0d-d8323217d382"
      },
      "execution_count": 21,
      "outputs": [
        {
          "output_type": "stream",
          "name": "stdout",
          "text": [
            "This is the tuple {('iphone', 'nothing', 'xiaomi')}\n",
            "Element1:iphone\n",
            "Element2:nothing\n"
          ]
        }
      ]
    },
    {
      "cell_type": "markdown",
      "source": [
        "# **Question#5**"
      ],
      "metadata": {
        "id": "yRtNoY7c2Hlv"
      }
    },
    {
      "cell_type": "code",
      "source": [
        "entries = int(input(\"Enter the number of entries: \"))\n",
        "my_dict={input(\"Enter the student:\"):input(\"Enter the Grade:\") for _ in range (entries)}\n",
        "print(my_dict)"
      ],
      "metadata": {
        "colab": {
          "base_uri": "https://localhost:8080/"
        },
        "id": "MLvNeq0T2KWu",
        "outputId": "ce76aa09-9fca-4da4-be85-78aa26abec58"
      },
      "execution_count": 23,
      "outputs": [
        {
          "output_type": "stream",
          "name": "stdout",
          "text": [
            "Enter the number of entries: 2\n",
            "Enter the studentibrahim\n",
            "Enter the GradeA\n",
            "Enter the studentali\n",
            "Enter the GradeB\n",
            "{'ibrahim': 'A', 'ali': 'B'}\n"
          ]
        }
      ]
    },
    {
      "cell_type": "markdown",
      "source": [
        "# **Question#6**"
      ],
      "metadata": {
        "id": "hu13Yyx43HYW"
      }
    },
    {
      "cell_type": "code",
      "source": [
        "n=input(f\"Enter the number entries of list1:\")\n",
        "list1=[input(\"Enter the elements:\") for _ in range(int(n))]\n",
        "m=input(f\"Enter the number entries of list2:\")\n",
        "list2=[input(\"Enter the elements:\") for _ in range(int(m))]\n",
        "print(f\"Making the union\")\n",
        "list3=set(list1).union(set(list2))\n",
        "print(f\"The union is {list3}\")\n",
        "print(f\"Making the intersection\")\n",
        "list4=set(list1).intersection(set(list2))\n",
        "print(f\"The intersection is {list4}\")\n",
        "print(f\"Making the difference\")\n",
        "list5=list(set(list1)-set(list2))\n",
        "print(f\"The difference is {list5}\")\n"
      ],
      "metadata": {
        "colab": {
          "base_uri": "https://localhost:8080/"
        },
        "id": "-7TUjuC93KVF",
        "outputId": "22750c7b-8a9c-4a33-fb59-afd9fbb137d5"
      },
      "execution_count": 28,
      "outputs": [
        {
          "output_type": "stream",
          "name": "stdout",
          "text": [
            "Enter the number entries of list1:2\n",
            "Enter the elements:a\n",
            "Enter the elements:b\n",
            "Enter the number entries of list2:2\n",
            "Enter the elements:a\n",
            "Enter the elements:c\n",
            "Making the union\n",
            "The union is {'b', 'c', 'a'}\n",
            "Making the intersection\n",
            "The intersection is {'a'}\n",
            "Making the difference\n",
            "The difference is ['b']\n"
          ]
        }
      ]
    },
    {
      "cell_type": "markdown",
      "source": [
        "# **Question#7**"
      ],
      "metadata": {
        "id": "QKQd2Ibq6rhG"
      }
    },
    {
      "cell_type": "code",
      "source": [
        "number=input(\"Enter the number:\")\n",
        "try:\n",
        "  number=int(number)\n",
        "  if int(number)%2==0:\n",
        "    print(f\"{number} is even\")\n",
        "  else:\n",
        "    print(f\"{number} is odd\")\n",
        "  if(number>0):\n",
        "    print(f\"{number} is positive\")\n",
        "  elif(number<0):\n",
        "    print(f\"{number} is negative\")\n",
        "  else:\n",
        "    print(f\"{number} is zero\")\n",
        "except ValueError:\n",
        "  print(\"Invalid input\")\n",
        "  exit()\n",
        "\n"
      ],
      "metadata": {
        "colab": {
          "base_uri": "https://localhost:8080/"
        },
        "id": "o2W4DLcX6wjp",
        "outputId": "a1afe950-dc4b-4eb3-8a72-66fcf5ff7c3a"
      },
      "execution_count": 31,
      "outputs": [
        {
          "output_type": "stream",
          "name": "stdout",
          "text": [
            "Enter the number:-11\n",
            "-11 is odd\n",
            "-11 is negative\n"
          ]
        }
      ]
    },
    {
      "cell_type": "markdown",
      "source": [
        "# **Question#8**"
      ],
      "metadata": {
        "id": "o6Wp8g9m7p5D"
      }
    },
    {
      "cell_type": "code",
      "source": [
        "for x in range(50):\n",
        "  if(x%3==0 and x%5==0):\n",
        "    print('FizzBuzz')\n",
        "  elif(x%3==0):\n",
        "    print('Fizz')\n",
        "  elif(x%5==0):\n",
        "    print('Buzz')\n",
        "\n",
        "  else:\n",
        "    print(x)"
      ],
      "metadata": {
        "colab": {
          "base_uri": "https://localhost:8080/"
        },
        "id": "KZcFJjF_7udD",
        "outputId": "d03f2a9e-f38f-4656-db11-1c177215da17"
      },
      "execution_count": 33,
      "outputs": [
        {
          "output_type": "stream",
          "name": "stdout",
          "text": [
            "FizzBuzz\n",
            "1\n",
            "2\n",
            "Fizz\n",
            "4\n",
            "Buzz\n",
            "Fizz\n",
            "7\n",
            "8\n",
            "Fizz\n",
            "Buzz\n",
            "11\n",
            "Fizz\n",
            "13\n",
            "14\n",
            "FizzBuzz\n",
            "16\n",
            "17\n",
            "Fizz\n",
            "19\n",
            "Buzz\n",
            "Fizz\n",
            "22\n",
            "23\n",
            "Fizz\n",
            "Buzz\n",
            "26\n",
            "Fizz\n",
            "28\n",
            "29\n",
            "FizzBuzz\n",
            "31\n",
            "32\n",
            "Fizz\n",
            "34\n",
            "Buzz\n",
            "Fizz\n",
            "37\n",
            "38\n",
            "Fizz\n",
            "Buzz\n",
            "41\n",
            "Fizz\n",
            "43\n",
            "44\n",
            "FizzBuzz\n",
            "46\n",
            "47\n",
            "Fizz\n",
            "49\n"
          ]
        }
      ]
    },
    {
      "cell_type": "markdown",
      "source": [
        "# **Question#9**"
      ],
      "metadata": {
        "id": "cigAI60o8a28"
      }
    },
    {
      "cell_type": "code",
      "source": [
        "\n",
        "def factorial(n):\n",
        "  if n==0:\n",
        "    return 1\n",
        "  else:\n",
        "    product=1\n",
        "    for x in range(n):\n",
        "      product=product*(x+1)\n",
        "    print(f\"The factorial of {n} is {product}\")\n",
        "\n",
        "\n",
        "\n",
        "\n",
        "\n",
        "number=int(input(\"Enter the number:\"))\n",
        "try:\n",
        "  number=int(number)\n",
        "  if(number>0):\n",
        "    factorial(number)\n",
        "  else:\n",
        "    print(\"Invalid input\")\n",
        "\n",
        "\n",
        "except ValueError:\n",
        "  print(\"Invalid input\")"
      ],
      "metadata": {
        "colab": {
          "base_uri": "https://localhost:8080/"
        },
        "id": "JwUCcLs68iNJ",
        "outputId": "1164e719-3bc3-4d9e-86ad-fa479f9c1728"
      },
      "execution_count": 35,
      "outputs": [
        {
          "output_type": "stream",
          "name": "stdout",
          "text": [
            "Enter the number:4\n",
            "The factorial of 4 is 24\n"
          ]
        }
      ]
    },
    {
      "cell_type": "markdown",
      "source": [
        "# **Question#10**"
      ],
      "metadata": {
        "id": "FGejEF6P_EhW"
      }
    },
    {
      "cell_type": "code",
      "source": [
        "def isPrime(number):\n",
        "  for x in range(number):\n",
        "    if(x>1):\n",
        "      if(number%x==0):\n",
        "        print(f\"{number} is not a prime number\")\n",
        "        return\n",
        "  print(f\"{number} is a prime number\")\n",
        "\n",
        "\n",
        "number=int(input(\"Enter the number:\"))\n",
        "try:\n",
        "  number=int(number)\n",
        "  if(number>1):\n",
        "    isPrime(number)\n",
        "  else:\n",
        "    print(\"Number should be greater than 1\")\n",
        "except ValueError:\n",
        "  print(\"Invalid input\")\n",
        "  exit()\n",
        ""
      ],
      "metadata": {
        "colab": {
          "base_uri": "https://localhost:8080/"
        },
        "id": "STBRJTqK_H38",
        "outputId": "34d42403-9666-4082-92da-e56d96477065"
      },
      "execution_count": 40,
      "outputs": [
        {
          "output_type": "stream",
          "name": "stdout",
          "text": [
            "Enter the number:100\n",
            "100 is not a prime number\n"
          ]
        }
      ]
    },
    {
      "cell_type": "code",
      "source": [
        ""
      ],
      "metadata": {
        "id": "t4GIElIC_LiQ"
      },
      "execution_count": null,
      "outputs": []
    },
    {
      "cell_type": "markdown",
      "source": [
        "# **Question#11**"
      ],
      "metadata": {
        "id": "TCAJ6rsJBCUF"
      }
    },
    {
      "cell_type": "code",
      "source": [
        "def square_list(my_list):\n",
        "  squared_list=[x**2 for x in my_list]\n",
        "  return squared_list\n",
        "\n",
        "number=input(\"Enter the number of entries:\")\n",
        "my_list=[int(input(\"Enter the item of list:\")) for _ in range(int(number))]\n",
        "print(f\"This is the normal list {my_list}\")\n",
        "squared_list=square_list(my_list)\n",
        "print(f\"This is the squared list {squared_list}\")\n",
        "print(squared_list)"
      ],
      "metadata": {
        "colab": {
          "base_uri": "https://localhost:8080/"
        },
        "id": "R4KMwmdMBFCj",
        "outputId": "f29f3d9a-80db-44ec-bbc2-097ed9ab913d"
      },
      "execution_count": 47,
      "outputs": [
        {
          "output_type": "stream",
          "name": "stdout",
          "text": [
            "Enter the number of entries:2\n",
            "Enter the item of list:2\n",
            "Enter the item of list:3\n",
            "This is the normal list [2, 3]\n",
            "This is the squared list [4, 9]\n",
            "[4, 9]\n"
          ]
        }
      ]
    },
    {
      "cell_type": "markdown",
      "source": [
        "# **Question#12**"
      ],
      "metadata": {
        "id": "XiqAsL_TDF9-"
      }
    },
    {
      "cell_type": "code",
      "source": [
        "number1=int(input(\"Enter the number of entries of dict1:\"))\n",
        "my_dict1={input(\"Enter the key:\"):input(\"Enter the value:\") for _ in range(int(number1))}\n",
        "number2=int(input(\"Enter the number of entries of dict2:\"))\n",
        "my_dict2={input(\"Enter the key:\"):input(\"Enter the value:\") for _ in range(int(number2))}\n",
        "my_dict1.update(my_dict2)\n",
        "print(my_dict1)"
      ],
      "metadata": {
        "colab": {
          "base_uri": "https://localhost:8080/"
        },
        "id": "IMS_ueOADJsf",
        "outputId": "68926443-ce2b-4bb8-f589-c43fdd16f155"
      },
      "execution_count": 49,
      "outputs": [
        {
          "output_type": "stream",
          "name": "stdout",
          "text": [
            "Enter the number of entries of dict1:3\n",
            "Enter the key:1\n",
            "Enter the value:hello\n",
            "Enter the key:2\n",
            "Enter the value:ji\n",
            "Enter the key:3\n",
            "Enter the value:kya\n",
            "Enter the number of entries of dict2:2\n",
            "Enter the key:2\n",
            "Enter the value:sam\n",
            "Enter the key:4\n",
            "Enter the value:ali\n",
            "{'1': 'hello', '2': 'sam', '3': 'kya', '4': 'ali'}\n"
          ]
        }
      ]
    },
    {
      "cell_type": "markdown",
      "source": [
        "# **Question#13**"
      ],
      "metadata": {
        "id": "rJi99nhxE1zI"
      }
    },
    {
      "cell_type": "code",
      "source": [
        "def remove_dup(my_list):\n",
        "  counter=0\n",
        "  print(f\"This is the list {my_list}\")\n",
        "  for x in my_list:\n",
        "      for y in my_list:\n",
        "        if x==y:\n",
        "          counter=counter+1\n",
        "\n",
        "      if(counter>1):\n",
        "          print(counter)\n",
        "          for z in range(counter-1):\n",
        "            my_list.remove(x)\n",
        "          counter=0\n",
        "  print(f\"This is the list after removing the duplicates {my_list}\")\n",
        "\n",
        "number=input(\"Enter the number of entries:\")\n",
        "my_list=[int(input(\"Enter the item of list:\")) for _ in range(int(number))]\n",
        "remove_dup(my_list)\n",
        "\n"
      ],
      "metadata": {
        "colab": {
          "base_uri": "https://localhost:8080/"
        },
        "id": "VdTnixEEE4ik",
        "outputId": "226f9975-a671-4376-fb1f-8ec2d9ca0132"
      },
      "execution_count": 76,
      "outputs": [
        {
          "output_type": "stream",
          "name": "stdout",
          "text": [
            "Enter the number of entries:4\n",
            "Enter the item of list:1\n",
            "Enter the item of list:1\n",
            "Enter the item of list:2\n",
            "Enter the item of list:3\n",
            "This is the list [1, 1, 2, 3]\n",
            "2\n",
            "2\n",
            "This is the list after removing the duplicates [1, 2]\n"
          ]
        }
      ]
    },
    {
      "cell_type": "markdown",
      "source": [
        "# **Question#14**"
      ],
      "metadata": {
        "id": "eH9P02s6JJAK"
      }
    },
    {
      "cell_type": "code",
      "source": [
        "\n",
        "is_palindrome = lambda string: string.lower().replace(\" \", \"\") == string.lower().replace(\" \", \"\")[::-1]\n",
        "string = input(\"Enter a string: \")\n",
        "if is_palindrome(string):\n",
        "    print(f\"{string} is a palindrome.\")\n",
        "else:\n",
        "    print(f\"{string} is not a palindrome.\")\n"
      ],
      "metadata": {
        "colab": {
          "base_uri": "https://localhost:8080/"
        },
        "id": "-KEadBDRJL07",
        "outputId": "b63439f2-37b0-4de4-9085-a4c16643f4c5"
      },
      "execution_count": 86,
      "outputs": [
        {
          "output_type": "stream",
          "name": "stdout",
          "text": [
            "Enter a string: alan\n",
            "alan is not a palindrome.\n"
          ]
        }
      ]
    },
    {
      "cell_type": "markdown",
      "source": [
        "# **Question#15**"
      ],
      "metadata": {
        "id": "V_l_ygsHTAcu"
      }
    },
    {
      "cell_type": "code",
      "source": [
        "\n",
        "\n",
        "def fibonacci_sequence(n):\n",
        "    if n <= 0:\n",
        "        return []\n",
        "    elif n == 1:\n",
        "        return [0]\n",
        "    else:\n",
        "        list_fib = [0, 1]\n",
        "        while len(list_fib) < n:\n",
        "            next_fib = list_fib[-1] + list_fib[-2]\n",
        "            list_fib.append(next_fib)\n",
        "        return list_fib\n",
        "\n",
        "\n",
        "num_terms = int(input(\"Enter the number of terms: \"))\n",
        "\n",
        "\n",
        "fib_sequence = fibonacci_sequence(num_terms)\n",
        "print(\"Fibonacci Sequence:\", fib_sequence)\n"
      ],
      "metadata": {
        "id": "anZWBUqETDMt"
      },
      "execution_count": null,
      "outputs": []
    },
    {
      "cell_type": "markdown",
      "source": [
        "# **Question#16**"
      ],
      "metadata": {
        "id": "4zzxAn71SBtu"
      }
    },
    {
      "cell_type": "markdown",
      "source": [],
      "metadata": {
        "id": "h-shAR4iTmeF"
      }
    },
    {
      "cell_type": "code",
      "source": [
        "\n",
        "\n",
        "def calculate_average():\n",
        "    numbers = []\n",
        "    while True:\n",
        "        try:\n",
        "            user_input = input(\"Enter a number (or 'done' to finish): \")\n",
        "            if user_input.lower() == 'done':\n",
        "                break\n",
        "            number = float(user_input)\n",
        "            numbers.append(number)\n",
        "        except ValueError:\n",
        "            print(\"Invalid input. Please enter a valid number or 'done'.\")\n",
        "\n",
        "    if not numbers:\n",
        "        print(\"No numbers entered.\")\n",
        "        return\n",
        "\n",
        "    average = sum(numbers) / len(numbers)\n",
        "    print(f\"The average of the entered numbers is: {average}\")\n",
        "\n",
        "calculate_average()\n"
      ],
      "metadata": {
        "id": "3UMt29lISJXN"
      },
      "execution_count": null,
      "outputs": []
    },
    {
      "cell_type": "markdown",
      "source": [
        "# **Question#17**"
      ],
      "metadata": {
        "id": "5GNGgrIiRMh1"
      }
    },
    {
      "cell_type": "code",
      "source": [
        "\n",
        "for i in range(1, 11):\n",
        "  for j in range(1, 11):\n",
        "    print(f\"{i} * {j} ={i * j}\")\n",
        "  print()\n",
        "\n"
      ],
      "metadata": {
        "colab": {
          "base_uri": "https://localhost:8080/"
        },
        "id": "5izdDY-XROys",
        "outputId": "78f7f7f1-37a3-4050-9eeb-436bad9b43e1"
      },
      "execution_count": 84,
      "outputs": [
        {
          "output_type": "stream",
          "name": "stdout",
          "text": [
            "1 * 1 =1\n",
            "1 * 2 =2\n",
            "1 * 3 =3\n",
            "1 * 4 =4\n",
            "1 * 5 =5\n",
            "1 * 6 =6\n",
            "1 * 7 =7\n",
            "1 * 8 =8\n",
            "1 * 9 =9\n",
            "1 * 10 =10\n",
            "\n",
            "2 * 1 =2\n",
            "2 * 2 =4\n",
            "2 * 3 =6\n",
            "2 * 4 =8\n",
            "2 * 5 =10\n",
            "2 * 6 =12\n",
            "2 * 7 =14\n",
            "2 * 8 =16\n",
            "2 * 9 =18\n",
            "2 * 10 =20\n",
            "\n",
            "3 * 1 =3\n",
            "3 * 2 =6\n",
            "3 * 3 =9\n",
            "3 * 4 =12\n",
            "3 * 5 =15\n",
            "3 * 6 =18\n",
            "3 * 7 =21\n",
            "3 * 8 =24\n",
            "3 * 9 =27\n",
            "3 * 10 =30\n",
            "\n",
            "4 * 1 =4\n",
            "4 * 2 =8\n",
            "4 * 3 =12\n",
            "4 * 4 =16\n",
            "4 * 5 =20\n",
            "4 * 6 =24\n",
            "4 * 7 =28\n",
            "4 * 8 =32\n",
            "4 * 9 =36\n",
            "4 * 10 =40\n",
            "\n",
            "5 * 1 =5\n",
            "5 * 2 =10\n",
            "5 * 3 =15\n",
            "5 * 4 =20\n",
            "5 * 5 =25\n",
            "5 * 6 =30\n",
            "5 * 7 =35\n",
            "5 * 8 =40\n",
            "5 * 9 =45\n",
            "5 * 10 =50\n",
            "\n",
            "6 * 1 =6\n",
            "6 * 2 =12\n",
            "6 * 3 =18\n",
            "6 * 4 =24\n",
            "6 * 5 =30\n",
            "6 * 6 =36\n",
            "6 * 7 =42\n",
            "6 * 8 =48\n",
            "6 * 9 =54\n",
            "6 * 10 =60\n",
            "\n",
            "7 * 1 =7\n",
            "7 * 2 =14\n",
            "7 * 3 =21\n",
            "7 * 4 =28\n",
            "7 * 5 =35\n",
            "7 * 6 =42\n",
            "7 * 7 =49\n",
            "7 * 8 =56\n",
            "7 * 9 =63\n",
            "7 * 10 =70\n",
            "\n",
            "8 * 1 =8\n",
            "8 * 2 =16\n",
            "8 * 3 =24\n",
            "8 * 4 =32\n",
            "8 * 5 =40\n",
            "8 * 6 =48\n",
            "8 * 7 =56\n",
            "8 * 8 =64\n",
            "8 * 9 =72\n",
            "8 * 10 =80\n",
            "\n",
            "9 * 1 =9\n",
            "9 * 2 =18\n",
            "9 * 3 =27\n",
            "9 * 4 =36\n",
            "9 * 5 =45\n",
            "9 * 6 =54\n",
            "9 * 7 =63\n",
            "9 * 8 =72\n",
            "9 * 9 =81\n",
            "9 * 10 =90\n",
            "\n",
            "10 * 1 =10\n",
            "10 * 2 =20\n",
            "10 * 3 =30\n",
            "10 * 4 =40\n",
            "10 * 5 =50\n",
            "10 * 6 =60\n",
            "10 * 7 =70\n",
            "10 * 8 =80\n",
            "10 * 9 =90\n",
            "10 * 10 =100\n",
            "\n"
          ]
        }
      ]
    },
    {
      "cell_type": "markdown",
      "source": [
        "# **Question#18**"
      ],
      "metadata": {
        "id": "ercbMEKRQYve"
      }
    },
    {
      "cell_type": "code",
      "source": [
        "noUsers=int(input(\"Enter the number of users:\"))\n",
        "my_dict={input(\"Enter the password:\"): input(\"Enter the name of user:\") for _ in range(noUsers)}\n",
        "print(f\"This is the dictionary {my_dict}\")\n"
      ],
      "metadata": {
        "colab": {
          "base_uri": "https://localhost:8080/"
        },
        "id": "Yho-Xb-MQbHY",
        "outputId": "51b9ec57-d3a3-4820-da2e-9cecde7e09e3"
      },
      "execution_count": 80,
      "outputs": [
        {
          "output_type": "stream",
          "name": "stdout",
          "text": [
            "Enter the number of users:2\n",
            "Enter the password:123\n",
            "Enter the name of user:ibrahim\n",
            "Enter the password:345\n",
            "Enter the name of user:ali\n",
            "This is the dictionary {'123': 'ibrahim', '345': 'ali'}\n"
          ]
        }
      ]
    },
    {
      "cell_type": "markdown",
      "source": [
        "# **Question#19**"
      ],
      "metadata": {
        "id": "nllpH2WjOEl4"
      }
    },
    {
      "cell_type": "code",
      "source": [
        "number=int(input(\"Enter the number of entries of list:\"))\n",
        "my_list=[input(\"Enter the item of list:\") for _ in range(number)]\n",
        "\n",
        "my_dict = {}\n",
        "\n",
        "\n",
        "for x in my_list:\n",
        "\n",
        "    my_dict[x] = my_dict.get(x, 0) + 1\n",
        "print(my_dict)"
      ],
      "metadata": {
        "colab": {
          "base_uri": "https://localhost:8080/"
        },
        "id": "MjbxuwbAOG5f",
        "outputId": "06b75648-6bd5-4184-86c9-234416dcaa90"
      },
      "execution_count": 78,
      "outputs": [
        {
          "output_type": "stream",
          "name": "stdout",
          "text": [
            "Enter the number of entries of list:3\n",
            "Enter the item of list:2\n",
            "Enter the item of list:3\n",
            "Enter the item of list:2\n",
            "{'2': 2, '3': 1}\n"
          ]
        }
      ]
    },
    {
      "cell_type": "markdown",
      "source": [
        "# **Question#20**"
      ],
      "metadata": {
        "id": "h5unHdnEMxar"
      }
    },
    {
      "cell_type": "code",
      "source": [
        "def temp_convertor(temp,choice):\n",
        "  if choice=='c':\n",
        "   temp_f=(temp*9/5)+32\n",
        "   print(f\"The temperature in fahrenheit is {temp_f}\")\n",
        "  elif choice=='f':\n",
        "   temp_c=(temp-32)*5/9\n",
        "   print(f\"The temperature in celsius is {temp_c}\")\n",
        "\n",
        "\n",
        "choice=input(\"How do you want to enter temperature(c for celsius and f for fahrenheit):\")\n",
        "choice=choice.lower()\n",
        "temp=input(\"Enter the temperature:\")\n",
        "temp_convertor(int(temp),choice)\n",
        "\n"
      ],
      "metadata": {
        "colab": {
          "base_uri": "https://localhost:8080/"
        },
        "id": "gvso9WRRM0tz",
        "outputId": "60c3397e-4803-4c7d-bf71-e1955818a81e"
      },
      "execution_count": 77,
      "outputs": [
        {
          "output_type": "stream",
          "name": "stdout",
          "text": [
            "How do you want to enter temperature(c for celsius and f for fahrenheit):c\n",
            "Enter the temperature:37\n",
            "The temperature in fahrenheit is 98.6\n"
          ]
        }
      ]
    }
  ]
}